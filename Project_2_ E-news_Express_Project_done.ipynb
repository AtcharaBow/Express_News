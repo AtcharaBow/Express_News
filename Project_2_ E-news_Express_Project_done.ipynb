{
 "cells": [
  {
   "cell_type": "markdown",
   "id": "13702191",
   "metadata": {},
   "source": [
    "## Project 2: E-news Express Project "
   ]
  },
  {
   "cell_type": "markdown",
   "id": "fd23f871",
   "metadata": {},
   "source": [
    "### Background: \n",
    "\n",
    "An online news portal aims to expand its business by acquiring new subscribers. Every visitor to the website takes certain actions based on their interest. The company plans to analyze these interests and wants to determine whether a new feature will be effective or not. Companies often analyze users' responses to two variants of a product to decide which of the two variants is more effective. This experimental technique is known as a/b testing that is used to determine whether a new feature attracts users based on a chosen metric.\n",
    "\n",
    "Suppose you are hired as a Data Scientist in E-news Express. The design team of the company has created a new landing page. You have been assigned the task to decide whether the new landing page is more effective to gather new subscribers. Suppose you randomly selected 100 users and divided them equally into two groups. The old landing page is served to the first group (control group) and the new landing page is served to the second group (treatment group). Various data about the customers in both groups are collected in 'abtest.csv'. Perform the statistical analysis to answer the following questions using the collected data.\n",
    "\n",
    "### Objective:\n",
    "\n",
    "Statistical analysis of business data. Explore the dataset and extract insights from the data. The idea is for you to get comfortable with doing statistical analysis in Python.\n",
    "\n",
    "You are expected to perform the statistical analysis to answer the following questions:\n",
    "\n",
    "* Explore the dataset and extract insights using Exploratory Data Analysis.\n",
    "* Do the users spend more time on the new landing page than the old landing page?\n",
    "* Is the conversion rate (the proportion of users who visit the landing page and get converted) for the new page greater than the conversion rate for the old page?\n",
    "* Does the converted status depend on the preferred language? [Hint: Create a contingency table using the pandas.crosstab() function]\n",
    "* Is the mean time spent on the new page same for the different language users?\n",
    "* Consider a significance level of 0.05 for all tests.\n",
    "\n",
    "### Data Dictionary:\n",
    "\n",
    "* user_id - This represents the user ID of the person visiting the website.\n",
    "* group - This represents whether the user belongs to the first group (control) or the second group (treatment).\n",
    "* landing_page - This represents whether the landing page is new or old.\n",
    "* time_spent_on_the_page - This represents the time (in minutes) spent by the user on the landing page.\n",
    "* converted - This represents whether the user gets converted to a subscriber of the news portal or not.\n",
    "* language_preferred - This represents the language chosen by the user to view the landing page.\n",
    "\n",
    "Best Practices for Notebook : \n",
    "\n",
    "The notebook should be well-documented, with inline comments explaining the functionality of code and markdown cells containing comments on the observations and insights.\n",
    "The notebook should be run from start to finish in a sequential manner before submission.\n",
    "It is preferable to remove all warnings and errors before submission.\n",
    "The notebook should be submitted as an HTML file (.html) and NOT as a notebook file (.ipynb) \n",
    "\n",
    "Best Practices for Presentation :\n",
    "\n",
    "The presentation should be made keeping in mind that the audience will be a business leader like CMO, COO, CFO, or CEO.\n",
    "The key points in the presentation should be the following\n",
    "business overview of the problem and solution approach\n",
    "key findings and insights which are important to make business decisions\n",
    "key conclusions made on the basis of the statistical analysis\n",
    "Focus on explaining the takeaways in an easy-to-understand manner.\n",
    "Copying and pasting from the notebook is not a good idea, and it is better to avoid showing codes unless they are the focal point of your presentation.\n",
    "The presentation should be submitted as a PDF file (.pdf) and NOT as a .pptx file.\n"
   ]
  },
  {
   "cell_type": "markdown",
   "id": "82ba23cd",
   "metadata": {},
   "source": [
    "### Import Important Packages"
   ]
  },
  {
   "cell_type": "code",
   "execution_count": 111,
   "id": "6b5d9333",
   "metadata": {},
   "outputs": [],
   "source": [
    "import numpy as np\n",
    "import pandas as pd \n",
    "import seaborn as sns #to plot graphs\n",
    "import scipy.stats as stats #to use ANOVA test\n",
    "import matplotlib.pyplot as plt #to plot graphs"
   ]
  },
  {
   "cell_type": "markdown",
   "id": "cc2cc4fa",
   "metadata": {},
   "source": [
    "### Q1: Exploring Dataset and EDA"
   ]
  },
  {
   "cell_type": "code",
   "execution_count": 112,
   "id": "b5c2bfad",
   "metadata": {},
   "outputs": [
    {
     "data": {
      "text/html": [
       "<div>\n",
       "<style scoped>\n",
       "    .dataframe tbody tr th:only-of-type {\n",
       "        vertical-align: middle;\n",
       "    }\n",
       "\n",
       "    .dataframe tbody tr th {\n",
       "        vertical-align: top;\n",
       "    }\n",
       "\n",
       "    .dataframe thead th {\n",
       "        text-align: right;\n",
       "    }\n",
       "</style>\n",
       "<table border=\"1\" class=\"dataframe\">\n",
       "  <thead>\n",
       "    <tr style=\"text-align: right;\">\n",
       "      <th></th>\n",
       "      <th>user_id</th>\n",
       "      <th>group</th>\n",
       "      <th>landing_page</th>\n",
       "      <th>time_spent_on_the_page</th>\n",
       "      <th>converted</th>\n",
       "      <th>language_preferred</th>\n",
       "    </tr>\n",
       "  </thead>\n",
       "  <tbody>\n",
       "    <tr>\n",
       "      <th>0</th>\n",
       "      <td>546592</td>\n",
       "      <td>control</td>\n",
       "      <td>old</td>\n",
       "      <td>3.48</td>\n",
       "      <td>no</td>\n",
       "      <td>Spanish</td>\n",
       "    </tr>\n",
       "    <tr>\n",
       "      <th>1</th>\n",
       "      <td>546468</td>\n",
       "      <td>treatment</td>\n",
       "      <td>new</td>\n",
       "      <td>7.13</td>\n",
       "      <td>yes</td>\n",
       "      <td>English</td>\n",
       "    </tr>\n",
       "    <tr>\n",
       "      <th>2</th>\n",
       "      <td>546462</td>\n",
       "      <td>treatment</td>\n",
       "      <td>new</td>\n",
       "      <td>4.40</td>\n",
       "      <td>no</td>\n",
       "      <td>Spanish</td>\n",
       "    </tr>\n",
       "    <tr>\n",
       "      <th>3</th>\n",
       "      <td>546567</td>\n",
       "      <td>control</td>\n",
       "      <td>old</td>\n",
       "      <td>3.02</td>\n",
       "      <td>no</td>\n",
       "      <td>French</td>\n",
       "    </tr>\n",
       "    <tr>\n",
       "      <th>4</th>\n",
       "      <td>546459</td>\n",
       "      <td>treatment</td>\n",
       "      <td>new</td>\n",
       "      <td>4.75</td>\n",
       "      <td>yes</td>\n",
       "      <td>Spanish</td>\n",
       "    </tr>\n",
       "  </tbody>\n",
       "</table>\n",
       "</div>"
      ],
      "text/plain": [
       "   user_id      group landing_page  time_spent_on_the_page converted  \\\n",
       "0   546592    control          old                    3.48        no   \n",
       "1   546468  treatment          new                    7.13       yes   \n",
       "2   546462  treatment          new                    4.40        no   \n",
       "3   546567    control          old                    3.02        no   \n",
       "4   546459  treatment          new                    4.75       yes   \n",
       "\n",
       "  language_preferred  \n",
       "0            Spanish  \n",
       "1            English  \n",
       "2            Spanish  \n",
       "3             French  \n",
       "4            Spanish  "
      ]
     },
     "execution_count": 112,
     "metadata": {},
     "output_type": "execute_result"
    }
   ],
   "source": [
    "df = pd.read_csv('abtest.csv')\n",
    "df.head()"
   ]
  },
  {
   "cell_type": "code",
   "execution_count": 113,
   "id": "f1544dfe",
   "metadata": {},
   "outputs": [
    {
     "data": {
      "text/plain": [
       "(100, 6)"
      ]
     },
     "execution_count": 113,
     "metadata": {},
     "output_type": "execute_result"
    }
   ],
   "source": [
    "df.shape"
   ]
  },
  {
   "cell_type": "code",
   "execution_count": 114,
   "id": "fe9ab99d",
   "metadata": {},
   "outputs": [
    {
     "name": "stdout",
     "output_type": "stream",
     "text": [
      "<class 'pandas.core.frame.DataFrame'>\n",
      "RangeIndex: 100 entries, 0 to 99\n",
      "Data columns (total 6 columns):\n",
      " #   Column                  Non-Null Count  Dtype  \n",
      "---  ------                  --------------  -----  \n",
      " 0   user_id                 100 non-null    int64  \n",
      " 1   group                   100 non-null    object \n",
      " 2   landing_page            100 non-null    object \n",
      " 3   time_spent_on_the_page  100 non-null    float64\n",
      " 4   converted               100 non-null    object \n",
      " 5   language_preferred      100 non-null    object \n",
      "dtypes: float64(1), int64(1), object(4)\n",
      "memory usage: 4.8+ KB\n"
     ]
    }
   ],
   "source": [
    "df.info()"
   ]
  },
  {
   "cell_type": "markdown",
   "id": "8a89552d",
   "metadata": {},
   "source": [
    "Observations: The 'group','landing_page','converted', and 'language_preferred' columns are categorical. While, 'user_id' and 'time_spent_on_the_page' are numerical."
   ]
  },
  {
   "cell_type": "code",
   "execution_count": 115,
   "id": "e5643dac",
   "metadata": {},
   "outputs": [
    {
     "data": {
      "text/plain": [
       "user_id                   0\n",
       "group                     0\n",
       "landing_page              0\n",
       "time_spent_on_the_page    0\n",
       "converted                 0\n",
       "language_preferred        0\n",
       "dtype: int64"
      ]
     },
     "execution_count": 115,
     "metadata": {},
     "output_type": "execute_result"
    }
   ],
   "source": [
    "df.isnull().sum()"
   ]
  },
  {
   "cell_type": "code",
   "execution_count": 116,
   "id": "26d7289e",
   "metadata": {},
   "outputs": [
    {
     "data": {
      "text/html": [
       "<div>\n",
       "<style scoped>\n",
       "    .dataframe tbody tr th:only-of-type {\n",
       "        vertical-align: middle;\n",
       "    }\n",
       "\n",
       "    .dataframe tbody tr th {\n",
       "        vertical-align: top;\n",
       "    }\n",
       "\n",
       "    .dataframe thead th {\n",
       "        text-align: right;\n",
       "    }\n",
       "</style>\n",
       "<table border=\"1\" class=\"dataframe\">\n",
       "  <thead>\n",
       "    <tr style=\"text-align: right;\">\n",
       "      <th></th>\n",
       "      <th>user_id</th>\n",
       "      <th>time_spent_on_the_page</th>\n",
       "    </tr>\n",
       "  </thead>\n",
       "  <tbody>\n",
       "    <tr>\n",
       "      <th>count</th>\n",
       "      <td>100.000000</td>\n",
       "      <td>100.000000</td>\n",
       "    </tr>\n",
       "    <tr>\n",
       "      <th>mean</th>\n",
       "      <td>546517.000000</td>\n",
       "      <td>5.377800</td>\n",
       "    </tr>\n",
       "    <tr>\n",
       "      <th>std</th>\n",
       "      <td>52.295779</td>\n",
       "      <td>2.378166</td>\n",
       "    </tr>\n",
       "    <tr>\n",
       "      <th>min</th>\n",
       "      <td>546443.000000</td>\n",
       "      <td>0.190000</td>\n",
       "    </tr>\n",
       "    <tr>\n",
       "      <th>25%</th>\n",
       "      <td>546467.750000</td>\n",
       "      <td>3.880000</td>\n",
       "    </tr>\n",
       "    <tr>\n",
       "      <th>50%</th>\n",
       "      <td>546492.500000</td>\n",
       "      <td>5.415000</td>\n",
       "    </tr>\n",
       "    <tr>\n",
       "      <th>75%</th>\n",
       "      <td>546567.250000</td>\n",
       "      <td>7.022500</td>\n",
       "    </tr>\n",
       "    <tr>\n",
       "      <th>max</th>\n",
       "      <td>546592.000000</td>\n",
       "      <td>10.710000</td>\n",
       "    </tr>\n",
       "  </tbody>\n",
       "</table>\n",
       "</div>"
      ],
      "text/plain": [
       "             user_id  time_spent_on_the_page\n",
       "count     100.000000              100.000000\n",
       "mean   546517.000000                5.377800\n",
       "std        52.295779                2.378166\n",
       "min    546443.000000                0.190000\n",
       "25%    546467.750000                3.880000\n",
       "50%    546492.500000                5.415000\n",
       "75%    546567.250000                7.022500\n",
       "max    546592.000000               10.710000"
      ]
     },
     "execution_count": 116,
     "metadata": {},
     "output_type": "execute_result"
    }
   ],
   "source": [
    "df.describe()"
   ]
  },
  {
   "cell_type": "code",
   "execution_count": 117,
   "id": "f1336607",
   "metadata": {},
   "outputs": [
    {
     "data": {
      "text/plain": [
       "Spanish    34\n",
       "French     34\n",
       "English    32\n",
       "Name: language_preferred, dtype: int64"
      ]
     },
     "execution_count": 117,
     "metadata": {},
     "output_type": "execute_result"
    }
   ],
   "source": [
    "df.language_preferred.value_counts()"
   ]
  },
  {
   "cell_type": "code",
   "execution_count": 118,
   "id": "09a05686",
   "metadata": {},
   "outputs": [
    {
     "data": {
      "text/plain": [
       "yes    54\n",
       "no     46\n",
       "Name: converted, dtype: int64"
      ]
     },
     "execution_count": 118,
     "metadata": {},
     "output_type": "execute_result"
    }
   ],
   "source": [
    "df.converted.value_counts()"
   ]
  },
  {
   "cell_type": "markdown",
   "id": "3a61e5d6",
   "metadata": {},
   "source": [
    "Observations: \n",
    "* There are 100 rows and 6 columns\n",
    "* 'user_id' is int and 'time_spent_on_the_page' is float. The rest are objects.\n",
    "* There is no missing cell/information\n",
    "* There are 3 languages, Spanish, French, and English, for the 'landing_page'\n",
    "* 'time_spent_on_the_page', mean is 5.38 minutes, maximum is 10.71 minutes, minimux is 0.19 minute."
   ]
  },
  {
   "cell_type": "markdown",
   "id": "bc912de7",
   "metadata": {},
   "source": [
    "### Exploratory Data Analysis"
   ]
  },
  {
   "cell_type": "code",
   "execution_count": 120,
   "id": "8b6ee6eb",
   "metadata": {},
   "outputs": [
    {
     "name": "stdout",
     "output_type": "stream",
     "text": [
      "landing_page\n",
      "new    6.22\n",
      "old    4.53\n",
      "Name: time_spent_on_the_page, dtype: float64\n"
     ]
    },
    {
     "data": {
      "image/png": "[encoded data removed]",
      "text/plain": [
       "<Figure size 432x432 with 1 Axes>"
      ]
     },
     "metadata": {
      "needs_background": "light"
     },
     "output_type": "display_data"
    }
   ],
   "source": [
    "# mean of 'time_spent_on_the_page' on old or new 'landing_page' as a factor\n",
    "print(round(df.groupby('landing_page')['time_spent_on_the_page'].mean(),2))\n",
    "\n",
    "# to create the boxplot for visualization \n",
    "fig, ax = plt.subplots(figsize = (6,6))\n",
    "a = sns.boxplot(x= 'landing_page', y = 'time_spent_on_the_page', showmeans=True, data=df, hue = 'converted')\n",
    "a.set_title('Time Users Spent on Landing Page', fontsize=15)\n",
    "plt.show()"
   ]
  },
  {
   "cell_type": "markdown",
   "id": "b2e402e5",
   "metadata": {},
   "source": [
    "Observations:\n",
    "* The sample visitors, from a control group (old landing page), who became subscribers spent ~6 minutes on average.\n",
    "* The sample visitors, from a treatment group (new landing page), who became subscribers spent ~7 minutes on average.\n",
    "* On average users on the new landing page spent more time on the page before decided to subscribe to the E-news"
   ]
  },
  {
   "cell_type": "code",
   "execution_count": 122,
   "id": "c0857743",
   "metadata": {},
   "outputs": [
    {
     "name": "stdout",
     "output_type": "stream",
     "text": [
      "language_preferred\n",
      "English    5.56\n",
      "French     5.25\n",
      "Spanish    5.33\n",
      "Name: time_spent_on_the_page, dtype: float64\n"
     ]
    },
    {
     "data": {
      "image/png": "[encoded data removed]",
      "text/plain": [
       "<Figure size 576x432 with 1 Axes>"
      ]
     },
     "metadata": {
      "needs_background": "light"
     },
     "output_type": "display_data"
    }
   ],
   "source": [
    "# mean of 'time_spent_on_the_page' on 'language_preferred' as a factor\n",
    "print(round(df.groupby('language_preferred')['time_spent_on_the_page'].mean(),2))\n",
    "\n",
    "# to create the boxplot for visualization \n",
    "fig, ax = plt.subplots(figsize = (8,6))\n",
    "a = sns.boxplot(x= 'language_preferred', y = 'time_spent_on_the_page', showmeans=True, data=df, hue = 'converted')\n",
    "a.set_title('Time Users Spent on Different Langages', fontsize=15)\n",
    "plt.show()"
   ]
  },
  {
   "cell_type": "markdown",
   "id": "f83fc992",
   "metadata": {},
   "source": [
    "Observations:\n",
    "* Users, who became subscribers, spent time on a landing page on average aproximately close for those three languages.\n",
    "* A few outlinders"
   ]
  },
  {
   "cell_type": "markdown",
   "id": "ad596786",
   "metadata": {},
   "source": [
    "### Q2: Do the users spend more time on the new landing page than the old landing page?"
   ]
  },
  {
   "cell_type": "markdown",
   "id": "88a5bcf1",
   "metadata": {},
   "source": [
    "* 'landing_page' is a categorical variable and 'time_spent_on_the_page' is numeral variable.\n",
    "\n",
    "* We want to know if the users spent more time on the new landing page.\n",
    "\n",
    "Let $\\mu_n, \\mu_o$ be the means of time spent on **the new landing page** and **the old landing page** groups respectively.\n",
    "\n",
    ">$H_0:\\mu_n=\\mu_o$\n",
    "\n",
    "against the alternate hypothesis\n",
    "\n",
    ">$H_a:\\mu_n>\\mu_o$"
   ]
  },
  {
   "cell_type": "code",
   "execution_count": 123,
   "id": "9fcc1cb8",
   "metadata": {},
   "outputs": [
    {
     "name": "stdout",
     "output_type": "stream",
     "text": [
      "The mean of time users spent on the new landing page is 6.22 minutes\n",
      "The standard division of time users spent on the new landing page is 1.82 minutes\n",
      "The mean of time users spent on the old landing page is 4.53 minutes\n",
      "The standard division of time users spent on the old landing page is 2.58 minutes\n"
     ]
    }
   ],
   "source": [
    "# to get the mean and std of time users spent on the new landing page\n",
    "time_new = df[df['landing_page']=='new']\n",
    "mu_n = round(time_new['time_spent_on_the_page'].mean(),2)\n",
    "sigma_n = round(time_new['time_spent_on_the_page'].std(),2)\n",
    "print('The mean of time users spent on the new landing page is {0} minutes'.format(mu_n))\n",
    "print('The standard division of time users spent on the new landing page is {0} minutes'.format(sigma_n))\n",
    "\n",
    "# to get the mean and std of time users spent on the old landing page\n",
    "time_old = df[df['landing_page']=='old']\n",
    "mu_o = round(time_old['time_spent_on_the_page'].mean(),2)\n",
    "sigma_o = round(time_old['time_spent_on_the_page'].std(),2)\n",
    "print('The mean of time users spent on the old landing page is {0} minutes'.format(mu_o))\n",
    "print('The standard division of time users spent on the old landing page is {0} minutes'.format(sigma_o))"
   ]
  },
  {
   "cell_type": "markdown",
   "id": "93b2d708",
   "metadata": {},
   "source": [
    "### Let's test whether the T-test assumptions are satisfied or not\n",
    "\n",
    "* Continuous data - Yes, time is measured on a continuous scale.\n",
    "* #####NOT SURE####Normally distributed populations - Yes, we are informed that the populations are assumed to be normal.\n",
    "* Independent populations - We are taking random samples for two different groups; users who received a new landing page and users who received an old landing page. Thus,the two samples are from two independent populations.\n",
    "* Unequal population standard deviations - Since the sample standard deviations are different (1.82 and 2.58), we will assumed that the population standard deviations are different.\n",
    "* Random sampling from the population - Yes, it states that this is a random sampling of 100 users, dividing them to 2 groups.\n",
    "\n",
    "Since conditions are satisfied, we are using two sample T-test for this problem. We will use one-sided, 2-sample independent t-test."
   ]
  },
  {
   "cell_type": "code",
   "execution_count": 139,
   "id": "4e594659",
   "metadata": {},
   "outputs": [
    {
     "data": {
      "text/html": [
       "<div>\n",
       "<style scoped>\n",
       "    .dataframe tbody tr th:only-of-type {\n",
       "        vertical-align: middle;\n",
       "    }\n",
       "\n",
       "    .dataframe tbody tr th {\n",
       "        vertical-align: top;\n",
       "    }\n",
       "\n",
       "    .dataframe thead th {\n",
       "        text-align: right;\n",
       "    }\n",
       "</style>\n",
       "<table border=\"1\" class=\"dataframe\">\n",
       "  <thead>\n",
       "    <tr style=\"text-align: right;\">\n",
       "      <th></th>\n",
       "      <th>user_id</th>\n",
       "      <th>group</th>\n",
       "      <th>landing_page</th>\n",
       "      <th>time_spent_on_the_page</th>\n",
       "      <th>converted</th>\n",
       "      <th>language_preferred</th>\n",
       "    </tr>\n",
       "  </thead>\n",
       "  <tbody>\n",
       "    <tr>\n",
       "      <th>1</th>\n",
       "      <td>546468</td>\n",
       "      <td>treatment</td>\n",
       "      <td>new</td>\n",
       "      <td>7.13</td>\n",
       "      <td>yes</td>\n",
       "      <td>English</td>\n",
       "    </tr>\n",
       "    <tr>\n",
       "      <th>2</th>\n",
       "      <td>546462</td>\n",
       "      <td>treatment</td>\n",
       "      <td>new</td>\n",
       "      <td>4.40</td>\n",
       "      <td>no</td>\n",
       "      <td>Spanish</td>\n",
       "    </tr>\n",
       "    <tr>\n",
       "      <th>4</th>\n",
       "      <td>546459</td>\n",
       "      <td>treatment</td>\n",
       "      <td>new</td>\n",
       "      <td>4.75</td>\n",
       "      <td>yes</td>\n",
       "      <td>Spanish</td>\n",
       "    </tr>\n",
       "    <tr>\n",
       "      <th>6</th>\n",
       "      <td>546448</td>\n",
       "      <td>treatment</td>\n",
       "      <td>new</td>\n",
       "      <td>5.25</td>\n",
       "      <td>yes</td>\n",
       "      <td>French</td>\n",
       "    </tr>\n",
       "    <tr>\n",
       "      <th>8</th>\n",
       "      <td>546461</td>\n",
       "      <td>treatment</td>\n",
       "      <td>new</td>\n",
       "      <td>10.71</td>\n",
       "      <td>yes</td>\n",
       "      <td>French</td>\n",
       "    </tr>\n",
       "  </tbody>\n",
       "</table>\n",
       "</div>"
      ],
      "text/plain": [
       "   user_id      group landing_page  time_spent_on_the_page converted  \\\n",
       "1   546468  treatment          new                    7.13       yes   \n",
       "2   546462  treatment          new                    4.40        no   \n",
       "4   546459  treatment          new                    4.75       yes   \n",
       "6   546448  treatment          new                    5.25       yes   \n",
       "8   546461  treatment          new                   10.71       yes   \n",
       "\n",
       "  language_preferred  \n",
       "1            English  \n",
       "2            Spanish  \n",
       "4            Spanish  \n",
       "6             French  \n",
       "8             French  "
      ]
     },
     "execution_count": 139,
     "metadata": {},
     "output_type": "execute_result"
    }
   ],
   "source": [
    "time_new.head() # to check time_new dataframe"
   ]
  },
  {
   "cell_type": "code",
   "execution_count": 140,
   "id": "fb2ece9b",
   "metadata": {},
   "outputs": [
    {
     "data": {
      "text/html": [
       "<div>\n",
       "<style scoped>\n",
       "    .dataframe tbody tr th:only-of-type {\n",
       "        vertical-align: middle;\n",
       "    }\n",
       "\n",
       "    .dataframe tbody tr th {\n",
       "        vertical-align: top;\n",
       "    }\n",
       "\n",
       "    .dataframe thead th {\n",
       "        text-align: right;\n",
       "    }\n",
       "</style>\n",
       "<table border=\"1\" class=\"dataframe\">\n",
       "  <thead>\n",
       "    <tr style=\"text-align: right;\">\n",
       "      <th></th>\n",
       "      <th>user_id</th>\n",
       "      <th>group</th>\n",
       "      <th>landing_page</th>\n",
       "      <th>time_spent_on_the_page</th>\n",
       "      <th>converted</th>\n",
       "      <th>language_preferred</th>\n",
       "    </tr>\n",
       "  </thead>\n",
       "  <tbody>\n",
       "    <tr>\n",
       "      <th>0</th>\n",
       "      <td>546592</td>\n",
       "      <td>control</td>\n",
       "      <td>old</td>\n",
       "      <td>3.48</td>\n",
       "      <td>no</td>\n",
       "      <td>Spanish</td>\n",
       "    </tr>\n",
       "    <tr>\n",
       "      <th>3</th>\n",
       "      <td>546567</td>\n",
       "      <td>control</td>\n",
       "      <td>old</td>\n",
       "      <td>3.02</td>\n",
       "      <td>no</td>\n",
       "      <td>French</td>\n",
       "    </tr>\n",
       "    <tr>\n",
       "      <th>5</th>\n",
       "      <td>546558</td>\n",
       "      <td>control</td>\n",
       "      <td>old</td>\n",
       "      <td>5.28</td>\n",
       "      <td>yes</td>\n",
       "      <td>English</td>\n",
       "    </tr>\n",
       "    <tr>\n",
       "      <th>7</th>\n",
       "      <td>546581</td>\n",
       "      <td>control</td>\n",
       "      <td>old</td>\n",
       "      <td>6.53</td>\n",
       "      <td>yes</td>\n",
       "      <td>Spanish</td>\n",
       "    </tr>\n",
       "    <tr>\n",
       "      <th>9</th>\n",
       "      <td>546548</td>\n",
       "      <td>control</td>\n",
       "      <td>old</td>\n",
       "      <td>2.08</td>\n",
       "      <td>no</td>\n",
       "      <td>English</td>\n",
       "    </tr>\n",
       "  </tbody>\n",
       "</table>\n",
       "</div>"
      ],
      "text/plain": [
       "   user_id    group landing_page  time_spent_on_the_page converted  \\\n",
       "0   546592  control          old                    3.48        no   \n",
       "3   546567  control          old                    3.02        no   \n",
       "5   546558  control          old                    5.28       yes   \n",
       "7   546581  control          old                    6.53       yes   \n",
       "9   546548  control          old                    2.08        no   \n",
       "\n",
       "  language_preferred  \n",
       "0            Spanish  \n",
       "3             French  \n",
       "5            English  \n",
       "7            Spanish  \n",
       "9            English  "
      ]
     },
     "execution_count": 140,
     "metadata": {},
     "output_type": "execute_result"
    }
   ],
   "source": [
    "time_old.head() #to check time_old dataframe"
   ]
  },
  {
   "cell_type": "code",
   "execution_count": 143,
   "id": "ec407521",
   "metadata": {
    "scrolled": true
   },
   "outputs": [
    {
     "name": "stdout",
     "output_type": "stream",
     "text": [
      "The p-value is  0.0001392381225166549\n"
     ]
    }
   ],
   "source": [
    "#import the required functions\n",
    "from scipy.stats import ttest_ind\n",
    "\n",
    "# find the p-value\n",
    "test_stat, p_value = ttest_ind(time_new['time_spent_on_the_page'], time_old['time_spent_on_the_page'], equal_var = False, alternative = 'greater')\n",
    "print('The p-value is ', p_value)"
   ]
  },
  {
   "cell_type": "markdown",
   "id": "3a7ac301",
   "metadata": {},
   "source": [
    "### Insight\n",
    "Since the p-value 0.0001 is much less than 0.05, the level of significace, we reject the null hypothesis and conclude that the users spend more time on the new landing page than the old landing page."
   ]
  },
  {
   "cell_type": "markdown",
   "id": "b80ca556",
   "metadata": {},
   "source": [
    "### Q3: Is the conversion rate (the proportion of users who visit the landing page and get converted) for the new page greater than the conversion rate for the old page?"
   ]
  },
  {
   "cell_type": "markdown",
   "id": "c801cb02",
   "metadata": {},
   "source": [
    "* 'landing_page' and 'language_preperred' are categorical variables.\n",
    "* We want to see if the proportion of the conversion rate for the new landing page is greater than the conversion rate for the old page.\n",
    "\n",
    "\n",
    "* Conversion rate: \n",
    "    * $CR_n$ = old landing samples/ new landing page converted\n",
    "    * $CR_o$ = old landing samples/ new landing page converted\n",
    "    \n",
    "We will test the null hypothesis\n",
    "\n",
    ">* $H_0$ : The conversion rate of the new landing page is equal to the old land page.\n",
    "\n",
    "against the alternate hypothesis\n",
    "\n",
    ">* $H_a$ : The conversion rate of the new landing page is greater than to the old land page."
   ]
  },
  {
   "cell_type": "markdown",
   "id": "17c51fe8",
   "metadata": {},
   "source": [
    "### Test whether the Z-test assumptions are satisfied or not\n",
    "\n",
    "*   Binomally distributed population - Yes, the landing page choice is either the old landing page or the new landing page.\n",
    "*   Random sampling from the population - Yes, we are informed that the collected sample is a simple random sample.  \n",
    "*   Can the binomial distribution approximated to normal distribution - Yes. For binary data, CLT works slower than usual. The standard thing is to check whether np and n(1-p) are greater than or equal to 10. Here, n and p refer to the sample size and sample proportion respectively.\n",
    ">$nCR_n = 50\\cdot \\frac{33}{50} = 33 \\geq 10\\\\\n",
    "n(1-CR_n) = 50 \\cdot \\frac{50-33}{50} =17 \\geq 10 \\\\\n",
    "nCR_o = 50\\cdot \\frac{21}{50} =21 \\geq 10\\\\\n",
    "n(1-CR_o) = 50 \\cdot \\frac{50-21}{50} =29 \\geq 10 $"
   ]
  },
  {
   "cell_type": "markdown",
   "id": "d11d3460",
   "metadata": {},
   "source": [
    "We will use proportions 2-sample z-test to find p-value"
   ]
  },
  {
   "cell_type": "code",
   "execution_count": 142,
   "id": "c22ea865",
   "metadata": {},
   "outputs": [
    {
     "name": "stdout",
     "output_type": "stream",
     "text": [
      "The p-value is 0.016052616408112556\n"
     ]
    }
   ],
   "source": [
    "# import the required fuction\n",
    "from statsmodels.stats.proportion import proportions_ztest\n",
    "\n",
    "# number of conversion for both landing page\n",
    "con = np.array([33, 21])\n",
    "\n",
    "# number for both sample sizes\n",
    "sample = np.array([50, 50])\n",
    "\n",
    "# find the p-value\n",
    "test_stat, p_value = proportions_ztest(con, sample)\n",
    "print('The p-value is ' + str(p_value))"
   ]
  },
  {
   "cell_type": "markdown",
   "id": "4bd7d017",
   "metadata": {},
   "source": [
    "### Insight\n",
    "\n",
    "As the p-value 0.0161 is less than the significance level 0.05, we reject the null hypothesis. Thus, the convension rate for the new landing page is greater than the conversion rate for the old landing page."
   ]
  },
  {
   "cell_type": "markdown",
   "id": "90f79591",
   "metadata": {},
   "source": [
    "### Q4: Does the converted status depend on the preferred language? [Hint: Create a contingency table using the pandas.crosstab() function]\n"
   ]
  },
  {
   "cell_type": "markdown",
   "id": "a3afb46c",
   "metadata": {},
   "source": [
    "### Data preperation"
   ]
  },
  {
   "cell_type": "code",
   "execution_count": 130,
   "id": "c45f26d9",
   "metadata": {},
   "outputs": [
    {
     "data": {
      "text/html": [
       "<div>\n",
       "<style scoped>\n",
       "    .dataframe tbody tr th:only-of-type {\n",
       "        vertical-align: middle;\n",
       "    }\n",
       "\n",
       "    .dataframe tbody tr th {\n",
       "        vertical-align: top;\n",
       "    }\n",
       "\n",
       "    .dataframe thead th {\n",
       "        text-align: right;\n",
       "    }\n",
       "</style>\n",
       "<table border=\"1\" class=\"dataframe\">\n",
       "  <thead>\n",
       "    <tr style=\"text-align: right;\">\n",
       "      <th>language_preferred</th>\n",
       "      <th>English</th>\n",
       "      <th>French</th>\n",
       "      <th>Spanish</th>\n",
       "      <th>total</th>\n",
       "    </tr>\n",
       "    <tr>\n",
       "      <th>converted</th>\n",
       "      <th></th>\n",
       "      <th></th>\n",
       "      <th></th>\n",
       "      <th></th>\n",
       "    </tr>\n",
       "  </thead>\n",
       "  <tbody>\n",
       "    <tr>\n",
       "      <th>no</th>\n",
       "      <td>11</td>\n",
       "      <td>19</td>\n",
       "      <td>16</td>\n",
       "      <td>46</td>\n",
       "    </tr>\n",
       "    <tr>\n",
       "      <th>yes</th>\n",
       "      <td>21</td>\n",
       "      <td>15</td>\n",
       "      <td>18</td>\n",
       "      <td>54</td>\n",
       "    </tr>\n",
       "    <tr>\n",
       "      <th>total</th>\n",
       "      <td>32</td>\n",
       "      <td>34</td>\n",
       "      <td>34</td>\n",
       "      <td>100</td>\n",
       "    </tr>\n",
       "  </tbody>\n",
       "</table>\n",
       "</div>"
      ],
      "text/plain": [
       "language_preferred  English  French  Spanish  total\n",
       "converted                                          \n",
       "no                       11      19       16     46\n",
       "yes                      21      15       18     54\n",
       "total                    32      34       34    100"
      ]
     },
     "execution_count": 130,
     "metadata": {},
     "output_type": "execute_result"
    }
   ],
   "source": [
    "converted_language = pd.crosstab(df['converted'], df['language_preferred'], margins = True, margins_name = 'total')\n",
    "converted_language"
   ]
  },
  {
   "cell_type": "markdown",
   "id": "750252c8",
   "metadata": {},
   "source": [
    "### the null and alternative hypothesis\n",
    "\n",
    "\n",
    "We will test the null hypothesis\n",
    "\n",
    ">$H_0:$ The converted status is independent of the preferred language.\n",
    "\n",
    "against the alternate hypothesis\n",
    "\n",
    ">$H_a:$ The converted status depends of the preferred language."
   ]
  },
  {
   "cell_type": "markdown",
   "id": "86fe9178",
   "metadata": {},
   "source": [
    "### Test whether the assumptions are satisfied or not\n",
    "\n",
    "* Categorical variables - Yes\n",
    "* Expected value of the number of sample observations in each level of the variable is at least 5 - Yes, the number of observations in each level is greater than 5.\n",
    "* Random sampling from the population - Yes, we are informed that the collected sample is a simple random sample."
   ]
  },
  {
   "cell_type": "markdown",
   "id": "4e6761fb",
   "metadata": {},
   "source": [
    "We will use Chi-Square Test of Independance to check if the converted status depend on the preferred language."
   ]
  },
  {
   "cell_type": "code",
   "execution_count": 131,
   "id": "8dabc4a4",
   "metadata": {},
   "outputs": [
    {
     "name": "stdout",
     "output_type": "stream",
     "text": [
      "The p-value is 0.7970832186581233\n"
     ]
    }
   ],
   "source": [
    "# import the required function\n",
    "from scipy.stats import chi2_contingency\n",
    "\n",
    "# find the p-value\n",
    "chi, p_value, dof, expected = chi2_contingency(con_lang)\n",
    "print('The p-value is', p_value)"
   ]
  },
  {
   "cell_type": "markdown",
   "id": "658154b3",
   "metadata": {},
   "source": [
    "### Insight\n",
    "As the p-value 0.7971 is much more than the significance level 0.05, we fail to reject the null hypothesis. Hence, we do not have enough statistical significance to conclude that the converted status is independent of the preferred language at 5% significance level."
   ]
  },
  {
   "cell_type": "markdown",
   "id": "426b7aad",
   "metadata": {},
   "source": [
    "### Q5: Is the mean time spent on the new page same for the different language users?\n"
   ]
  },
  {
   "cell_type": "markdown",
   "id": "1ff62988",
   "metadata": {},
   "source": [
    "### Data Preperation"
   ]
  },
  {
   "cell_type": "code",
   "execution_count": 160,
   "id": "6c9d7590",
   "metadata": {},
   "outputs": [
    {
     "name": "stdout",
     "output_type": "stream",
     "text": [
      "language_preferred\n",
      "English    6.663750\n",
      "French     6.196471\n",
      "Spanish    5.835294\n",
      "Name: time_spent_on_the_page, dtype: float64\n"
     ]
    }
   ],
   "source": [
    "# to find means of time users spent on the new landing pages in Spanish, French, and English respectively.\n",
    "df_l = df[(df['landing_page']=='new')]\n",
    "print(df_l.groupby('language_preferred')['time_spent_on_the_page'].mean())"
   ]
  },
  {
   "cell_type": "code",
   "execution_count": 161,
   "id": "77f64d41",
   "metadata": {},
   "outputs": [
    {
     "data": {
      "image/png": "[encoded data removed]",
      "text/plain": [
       "<Figure size 576x576 with 1 Axes>"
      ]
     },
     "metadata": {
      "needs_background": "light"
     },
     "output_type": "display_data"
    }
   ],
   "source": [
    "# visual analysis of the time users spending on the two landing pages.\n",
    "fig, ax = plt.subplots(figsize = (8,8)) #resize the graph\n",
    "sns.boxplot(data = df_l, x=\"language_preferred\", y=\"time_spent_on_the_page\", \n",
    "            hue=df['language_preferred'], showmeans=True)\n",
    "plt.show()"
   ]
  },
  {
   "cell_type": "markdown",
   "id": "db2f3139",
   "metadata": {},
   "source": [
    "### The null and alternative hypothesis\n",
    "\n",
    "Let $\\mu_s, \\mu_f, \\mu_e$ be the means of time users spent on landing pages in Spanish, French, and English respectively.\n",
    "\n",
    "We will test the null hypothesis\n",
    "\n",
    ">$H_0: \\mu_s = \\mu_f = \\mu_e$\n",
    "\n",
    "against the alternative hypothesis\n",
    "\n",
    ">$H_a: $ At least one mean of time users spent per a language is different from the rest."
   ]
  },
  {
   "cell_type": "markdown",
   "id": "d37c4b51",
   "metadata": {},
   "source": [
    "Using ANOVA Test\n",
    "Here, time_spent_on_the_page is the response and language_preferred is the factor."
   ]
  },
  {
   "cell_type": "markdown",
   "id": "befa4234",
   "metadata": {},
   "source": [
    "We need to check the normality and equality of variance assumptions.\n",
    "\n",
    "* For testing of normality, Shapiro-Wilk’s test is applied to the response variable.\n",
    "\n",
    "* For equality of variance, Levene test is applied to the response variable."
   ]
  },
  {
   "cell_type": "markdown",
   "id": "5fb6df32",
   "metadata": {},
   "source": [
    "#### Shapiro-Wilk’s test\n",
    "\n",
    "We will test the null hypothesis\n",
    "\n",
    ">$H_0:$ The time spent on the landing page follows a normal distribution against\n",
    "\n",
    "against the alternative hypothesis\n",
    "\n",
    ">$H_a:$ The time spent on the landing page does not follow a normal distribution"
   ]
  },
  {
   "cell_type": "code",
   "execution_count": 162,
   "id": "464f93df",
   "metadata": {},
   "outputs": [
    {
     "name": "stdout",
     "output_type": "stream",
     "text": [
      "The p-value is 0.8040016293525696\n"
     ]
    }
   ],
   "source": [
    "# Assumption 1: Normality\n",
    "# import the required function\n",
    "from scipy import stats\n",
    "\n",
    "# find the p-value\n",
    "w, p_value = stats.shapiro(df_l['time_spent_on_the_page']) \n",
    "print('The p-value is', p_value)"
   ]
  },
  {
   "cell_type": "markdown",
   "id": "1f746d16",
   "metadata": {},
   "source": [
    "Since p_value 0.8040 is much greater than 0.05, we fail to reject the null hypothesis that the response follows the normal distribution."
   ]
  },
  {
   "cell_type": "markdown",
   "id": "51b0ba9c",
   "metadata": {},
   "source": [
    "### Levene’s test\n",
    "\n",
    "We will test the null hypothesis\n",
    "\n",
    ">$H_0$: All the population variances are equal\n",
    "\n",
    "against the alternative hypothesis\n",
    "\n",
    ">$H_a$: At least one variance is different from the rest"
   ]
  },
  {
   "cell_type": "code",
   "execution_count": 168,
   "id": "fe0b6262",
   "metadata": {},
   "outputs": [
    {
     "name": "stdout",
     "output_type": "stream",
     "text": [
      "The p-value is 0.46711357711340173\n"
     ]
    }
   ],
   "source": [
    "#Assumption 2: Homogeneity of Variance\n",
    "#import the required function\n",
    "from scipy.stats import levene\n",
    "statistic, p_value = levene( df_l['time_spent_on_the_page'][df_l['language_preferred']==\"Spanish\"], \n",
    "                                   df_l['time_spent_on_the_page'][df_l['language_preferred']==\"French\"], \n",
    "                                   df_l['time_spent_on_the_page'][df_l['language_preferred']==\"English\"])\n",
    "# find the p-value\n",
    "print('The p-value is', p_value)"
   ]
  },
  {
   "cell_type": "markdown",
   "id": "9b3bcaac",
   "metadata": {},
   "source": [
    "Since p_value 0.4671 is much greater than 0.05, we fail to reject the null hypothesis that the population variances are equal."
   ]
  },
  {
   "cell_type": "markdown",
   "id": "3824c0cf",
   "metadata": {},
   "source": [
    "### Test whether the assumptions are satisfied or not\n",
    "* The populations are normally distributed - Yes, the normality assumption is verified using the Shapiro-Wilk’s test.\n",
    "* Samples are independent simple random samples - Yes, we are informed that the collected sample is a simple random sample.\n",
    "* Population variances are equal - Yes, the homogeneity of variance assumption is verified using the Levene's test."
   ]
  },
  {
   "cell_type": "markdown",
   "id": "2c27220a",
   "metadata": {},
   "source": [
    "### The P-Value"
   ]
  },
  {
   "cell_type": "code",
   "execution_count": 170,
   "id": "c007411a",
   "metadata": {},
   "outputs": [
    {
     "name": "stdout",
     "output_type": "stream",
     "text": [
      "The p-value is 0.43204138694325955\n"
     ]
    }
   ],
   "source": [
    "#import the required function\n",
    "from scipy.stats import f_oneway\n",
    "\n",
    "# perform one-way anova test\n",
    "test_stat, p_value = f_oneway(df_l.loc[df_l['language_preferred'] == 'Spanish', 'time_spent_on_the_page'],\n",
    "                              df_l.loc[df_l['language_preferred'] == 'French', 'time_spent_on_the_page'],\n",
    "                              df_l.loc[df_l['language_preferred'] == 'English', 'time_spent_on_the_page'])\n",
    "print('The p-value is ' + str(p_value))"
   ]
  },
  {
   "cell_type": "markdown",
   "id": "d2324ea3",
   "metadata": {},
   "source": [
    "### Insight\n",
    "As the p-value 0.4320 is much more than the significance level 0.05, we fail to reject the null hypothesis. Hence, we do not have enough statistical significance to conclude that the mean time spent on the new page same for the different language user."
   ]
  },
  {
   "cell_type": "code",
   "execution_count": null,
   "id": "032d4154",
   "metadata": {},
   "outputs": [],
   "source": []
  }
 ],
 "metadata": {
  "kernelspec": {
   "display_name": "Python 3",
   "language": "python",
   "name": "python3"
  },
  "language_info": {
   "codemirror_mode": {
    "name": "ipython",
    "version": 3
   },
   "file_extension": ".py",
   "mimetype": "text/x-python",
   "name": "python",
   "nbconvert_exporter": "python",
   "pygments_lexer": "ipython3",
   "version": "3.8.8"
  }
 },
 "nbformat": 4,
 "nbformat_minor": 5
}
